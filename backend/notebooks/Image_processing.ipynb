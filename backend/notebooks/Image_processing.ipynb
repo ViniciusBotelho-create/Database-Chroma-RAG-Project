{
 "cells": [
  {
   "cell_type": "code",
   "execution_count": 1,
   "id": "0e832e88-c00d-4403-b9ae-1af13316dbcc",
   "metadata": {},
   "outputs": [],
   "source": [
    "import chromadb\n",
    "import cv2\n",
    "import easyocr\n",
    "import fitz \n",
    "import numpy as np\n",
    "import os\n",
    "import pytesseract\n",
    "import re\n",
    "import requests\n",
    "import shutil\n",
    "import torch\n",
    "import uuid\n",
    "\n",
    "from pathlib import Path\n",
    "from PIL import Image\n",
    "from io import BytesIO\n",
    "from PIL import Image, ImageEnhance, ImageFilter\n",
    "from transformers import CLIPProcessor, CLIPModel\n",
    "from PIL import Image, ImageEnhance\n",
    "from chromadb.utils import embedding_functions\n",
    "from pymongo import MongoClient\n",
    "from sentence_transformers import SentenceTransformer\n",
    "\n"
   ]
  },
  {
   "cell_type": "code",
   "execution_count": 6,
   "id": "b20498f7-843e-422a-8eb5-49d22974253e",
   "metadata": {},
   "outputs": [
    {
     "name": "stderr",
     "output_type": "stream",
     "text": [
      "Using a slow image processor as `use_fast` is unset and a slow processor was saved with this model. `use_fast=True` will be the default behavior in v4.52, even if the model was saved with a slow processor. This will result in minor differences in outputs. You'll still be able to use a slow processor with `use_fast=False`.\n"
     ]
    },
    {
     "name": "stdout",
     "output_type": "stream",
     "text": [
      "Categoria: Mapa (Confiança: 0.69)\n"
     ]
    },
    {
     "name": "stderr",
     "output_type": "stream",
     "text": [
      "Neither CUDA nor MPS are available - defaulting to CPU. Note: This module is much faster with a GPU.\n",
      "/home/stoiccode/gitRepositories/Database-Chroma-RAG-Project/venv311/lib64/python3.11/site-packages/torch/utils/data/dataloader.py:665: UserWarning: 'pin_memory' argument is set as true but no accelerator is found, then device pinned memory won't be used.\n",
      "  warnings.warn(warn_msg)\n"
     ]
    },
    {
     "name": "stdout",
     "output_type": "stream",
     "text": [
      "{'titles': ['MAPA DE ÁGUAS SUBTERRÂNEAS DO ESTADO DE SÃO PAULO'], 'captions': [], 'texts': ['#x']}\n"
     ]
    }
   ],
   "source": [
    "\n",
    "# Carregar o modelo CLIP\n",
    "model = CLIPModel.from_pretrained(\"openai/clip-vit-base-patch32\")\n",
    "processor = CLIPProcessor.from_pretrained(\"openai/clip-vit-base-patch32\")\n",
    "\n",
    "def is_image_url(url: str) -> bool:\n",
    "    try:\n",
    "        response = requests.get(url, stream=True, timeout=5, allow_redirects=True)\n",
    "        content_type = response.headers.get('Content-Type', '').lower()\n",
    "        print(f\"Content-Type recebido: {content_type}\")  # Adicione esse print\n",
    "\n",
    "        if any(image_type in content_type for image_type in ['image/jpeg', 'image/png', 'image/gif', 'image/jpg']):\n",
    "            return True\n",
    "        print(f\"Erro: O conteúdo da URL não é uma imagem. Content-Type: {content_type}\")\n",
    "        return False\n",
    "    except Exception as e:\n",
    "        print(f\"Erro ao verificar URL: {e}\")\n",
    "        return False\n",
    "\n",
    "        \n",
    "# Função para classificar a imagem\n",
    "def classify_image(image_path: str) -> str:\n",
    "    try:\n",
    "        # Carregar a imagem\n",
    "        if image_path.startswith('http'):\n",
    "            response = requests.get(image_path)\n",
    "            image = Image.open(BytesIO(response.content)).convert(\"RGB\")\n",
    "        else:\n",
    "            image = Image.open(image_path).convert(\"RGB\")\n",
    "\n",
    "        # Definir possíveis categorias\n",
    "        labels = [\"Mapa\", \"Gráfico\", \"Diagrama\", \"Tabela\", \"Outro\"]\n",
    "        inputs = processor(text=labels, images=image, return_tensors=\"pt\", padding=True)\n",
    "\n",
    "        # Obter as similaridades\n",
    "        outputs = model(**inputs)\n",
    "        logits_per_image = outputs.logits_per_image\n",
    "        probs = logits_per_image.softmax(dim=1)\n",
    "\n",
    "        # Identificar a categoria com maior probabilidade\n",
    "        max_index = probs.argmax().item()\n",
    "        category = labels[max_index]\n",
    "        confidence = probs[0][max_index].item()\n",
    "\n",
    "        return f\"Categoria: {category} (Confiança: {confidence:.2f})\"\n",
    "\n",
    "    except Exception as e:\n",
    "        return f\"Erro ao classificar a imagem: {e}\"\n",
    "\n",
    "\n",
    "# Função para extração estruturada de texto com EasyOCR\n",
    "def extract_text_structure(image_path: str) -> dict:\n",
    "    try:\n",
    "        # Carregar a imagem\n",
    "        if image_path.startswith('http'):\n",
    "            response = requests.get(image_path)\n",
    "            image = Image.open(BytesIO(response.content)).convert(\"RGB\")\n",
    "        else:\n",
    "            image = Image.open(image_path).convert(\"RGB\")\n",
    "\n",
    "        # Pré-processamento\n",
    "        image = image.convert(\"L\")  # Escala de cinza\n",
    "        image = ImageEnhance.Contrast(image).enhance(2)\n",
    "        image = ImageEnhance.Sharpness(image).enhance(2)\n",
    "\n",
    "        # Converter para numpy array para processamento com OpenCV\n",
    "        image_np = cv2.cvtColor(np.array(image), cv2.COLOR_RGB2BGR)\n",
    "\n",
    "        # Usar EasyOCR para detecção de texto\n",
    "        reader = easyocr.Reader(['pt'])\n",
    "        result = reader.readtext(image_np)\n",
    "\n",
    "        # Organizando os textos extraídos\n",
    "        titles, captions, texts = [], [], []\n",
    "        for (bbox, text, prob) in result:\n",
    "            if prob > 0.5:  # Filtro de confiança\n",
    "                text_content = text.strip()\n",
    "\n",
    "                # Classificação simples com base na posição do texto (exemplo)\n",
    "                if bbox[1][1] < 50:  # Considerando a parte superior da imagem como título\n",
    "                    titles.append(text_content)\n",
    "                elif bbox[1][1] >= 50 and bbox[1][1] < 200:  # Considerando a parte intermediária como legenda\n",
    "                    captions.append(text_content)\n",
    "                else:  # O restante como texto normal\n",
    "                    texts.append(text_content)\n",
    "\n",
    "        return {\n",
    "            \"titles\": titles,\n",
    "            \"captions\": captions,\n",
    "            \"texts\": texts\n",
    "        }\n",
    "\n",
    "    except Exception as e:\n",
    "        return {\"error\": str(e)}\n",
    "\n",
    "\n",
    "# Exemplo de uso\n",
    "image_path = \"https://smastr16.blob.core.windows.net/igeo/2012/03/mapa_aguas_subterraneas.jpg\"\n",
    "print(classify_image(image_path))\n",
    "print(extract_text_structure(image_path))\n"
   ]
  },
  {
   "cell_type": "code",
   "execution_count": 7,
   "id": "793bfe72-e2a3-48e7-ba0e-89b863985db9",
   "metadata": {},
   "outputs": [
    {
     "name": "stdout",
     "output_type": "stream",
     "text": [
      "Content-Type recebido: image/jpeg\n"
     ]
    },
    {
     "name": "stderr",
     "output_type": "stream",
     "text": [
      "Neither CUDA nor MPS are available - defaulting to CPU. Note: This module is much faster with a GPU.\n"
     ]
    },
    {
     "name": "stdout",
     "output_type": "stream",
     "text": [
      "[OK] Informações da imagem armazenadas no MongoDB e ChromaDB com ID f3f28bf5-e657-4135-beb9-4165578e7ff7\n"
     ]
    }
   ],
   "source": [
    "# Inicialização do modelo de embeddings\n",
    "embedding_model = SentenceTransformer(\"all-MiniLM-L6-v2\")\n",
    "\n",
    "# MongoDB\n",
    "mongo_client = MongoClient(\"mongodb://localhost:27017/\")\n",
    "mongo_db = mongo_client[\"rag_db\"]\n",
    "images_collection = mongo_db[\"images\"]\n",
    "\n",
    "# ChromaDB\n",
    "chroma_client = chromadb.PersistentClient(path=\"../chroma_db\")\n",
    "collection = chroma_client.get_or_create_collection(name=\"image_descriptions\")\n",
    "\n",
    "\n",
    "def store_image_info(image_url: str) -> None:\n",
    "    try:\n",
    "        # Verificar se o URL é uma imagem\n",
    "        if not is_image_url(image_url):\n",
    "            print(f\"Erro: O conteúdo da URL não é uma imagem: {image_url}\")\n",
    "            return\n",
    "\n",
    "        # Baixar a imagem\n",
    "        response = requests.get(image_url, stream=True)\n",
    "        response.raise_for_status()\n",
    "\n",
    "        # Carregar a imagem\n",
    "        image = Image.open(BytesIO(response.content)).convert(\"RGB\")\n",
    "\n",
    "        # Classificar a imagem\n",
    "        category = classify_image(image_url)  # Aqui você pode integrar a função classify_image(image_url)\n",
    "        extracted_info = extract_text_structure(image_url)\n",
    "\n",
    "        # Gerar uma descrição concatenada para os embeddings\n",
    "        description = f\"{category}: \" + \" \".join(extracted_info[\"titles\"] + extracted_info[\"texts\"])\n",
    "        embedding = embedding_model.encode(description).tolist()\n",
    "\n",
    "        # Gerar UUID\n",
    "        doc_id = str(uuid.uuid4())\n",
    "\n",
    "        # Armazenar no MongoDB\n",
    "        image_data = {\n",
    "            \"id\": doc_id,\n",
    "            \"url\": image_url,\n",
    "            \"category\": category,\n",
    "            \"titles\": extracted_info[\"titles\"],\n",
    "            \"texts\": extracted_info[\"texts\"],\n",
    "            \"embedding\": embedding\n",
    "        }\n",
    "        images_collection.insert_one(image_data)\n",
    "\n",
    "        # Armazenar no ChromaDB\n",
    "        collection.add(\n",
    "            embeddings=[embedding],\n",
    "            metadatas=[{\n",
    "                \"id\": doc_id,\n",
    "                \"url\": image_url,\n",
    "            }],\n",
    "            ids=[doc_id]\n",
    "        )\n",
    "\n",
    "        print(f\"[OK] Informações da imagem armazenadas no MongoDB e ChromaDB com ID {doc_id}\")\n",
    "\n",
    "    except Exception as e:\n",
    "        print(f\"Erro ao armazenar a imagem: {e}\")\n",
    "\n",
    "# Exemplo de uso\n",
    "image_links = [\n",
    "    \"https://smastr16.blob.core.windows.net/igeo/2012/03/mapa_aguas_subterraneas.jpg\",\n",
    "]\n",
    "\n",
    "for link in image_links:\n",
    "    store_image_info(link)\n",
    "\n"
   ]
  },
  {
   "cell_type": "code",
   "execution_count": 5,
   "id": "5abdbf2d-0aa1-4c11-89cf-d4b53896e9ba",
   "metadata": {},
   "outputs": [
    {
     "name": "stdout",
     "output_type": "stream",
     "text": [
      "IDs encontrados: ['f3f28bf5-e657-4135-beb9-4165578e7ff7']\n",
      "Distanças: [1.0777101516723633]\n",
      "IDs encontrados: ['f3f28bf5-e657-4135-beb9-4165578e7ff7']\n",
      "titulos: ['MAPA DE ÁGUAS SUBTERRÂNEAS DO ESTADO DE SÃO PAULO'] url: https://smastr16.blob.core.windows.net/igeo/2012/03/mapa_aguas_subterraneas.jpg\n"
     ]
    }
   ],
   "source": [
    "#Teste de query\n",
    "\n",
    "# Inicialização do modelo de embeddings\n",
    "embedding_model = SentenceTransformer(\"all-MiniLM-L6-v2\")\n",
    "\n",
    "# Configurações do MongoDB\n",
    "mongo_client = MongoClient(\"mongodb://localhost:27017/\")\n",
    "mongo_db = mongo_client[\"rag_db\"]\n",
    "images_collection = mongo_db[\"images\"]\n",
    "\n",
    "# Configurações do ChromaDB\n",
    "chroma_client = chromadb.PersistentClient(path=\"../chroma_db\")\n",
    "collection = chroma_client.get_or_create_collection(name=\"image_descriptions\")\n",
    "\n",
    "# Modelo de Embeddings\n",
    "embedding_model = SentenceTransformer(\"all-MiniLM-L6-v2\")\n",
    "\n",
    "def query_search(query: str, top_k: int = 5):\n",
    "    try:\n",
    "        # Gerar embedding da query\n",
    "        query_embedding = embedding_model.encode(query).tolist()\n",
    "\n",
    "        # Realizar a busca no ChromaDB\n",
    "        results = collection.query(\n",
    "            query_embeddings=[query_embedding],\n",
    "            n_results=top_k\n",
    "        )\n",
    "        \n",
    "        # Recuperar os IDs e distâncias encontrados\n",
    "        found_ids = results[\"ids\"][0]\n",
    "        distances = results[\"distances\"][0]\n",
    "\n",
    "        # Exibir IDs e distâncias\n",
    "        print(f\"IDs encontrados: {found_ids}\")\n",
    "        print(f\"Distanças: {distances}\")\n",
    "\n",
    "        # Recuperar os IDs encontrados\n",
    "        found_ids = results[\"ids\"][0]\n",
    "        print(f\"IDs encontrados: {found_ids}\")\n",
    "\n",
    "        # Buscar os documentos no MongoDB\n",
    "        documents = images_collection.find({\"id\": {\"$in\": found_ids}})\n",
    "        return list(documents)\n",
    "\n",
    "    except Exception as e:\n",
    "        print(f\"Erro ao realizar a pesquisa: {e}\")\n",
    "        return []\n",
    "\n",
    "# Exemplo de uso\n",
    "if __name__ == \"__main__\":\n",
    "    query = \" Nossa equipe escreveu um trecho de documentação EIA relativo a replantio de vegetação nativa que será removida dos trechos da via, você poderia verificar se o conteúdo segue as normas ambientais e sugerir melhorias para o foco futuro da equipe?Durante os estudos feitos pela equipe, foi verificado a existência da arvore Vitex polygama Cham. em trechos da estrada. Depois de uma analise cuidadosa da equipe, deseja-se realizar seu replantio no parque natural de chico mendes em Sorocaba, e para cada representante da espécie retirada será plantado um novo dentro dos limites do parque citado.\"\n",
    "    results = query_search(query)\n",
    "    for doc in results:\n",
    "        print(f\"titulos: {doc['titles']} url: {doc['url']}\")\n",
    "\n",
    "\n"
   ]
  },
  {
   "cell_type": "code",
   "execution_count": 23,
   "id": "094d1f25-f43b-4e7c-be59-8593da9938ab",
   "metadata": {},
   "outputs": [],
   "source": [
    "chroma_client = chromadb.PersistentClient(path=\"./chroma_db\")"
   ]
  },
  {
   "cell_type": "code",
   "execution_count": 3,
   "id": "a1fbd917-73b7-4f3b-8c73-3a2bf04ccf03",
   "metadata": {},
   "outputs": [
    {
     "name": "stdout",
     "output_type": "stream",
     "text": [
      "Coleção 'images' do MongoDB limpa com sucesso.\n"
     ]
    }
   ],
   "source": [
    "# #limpar o banco de dados caso necessário\n",
    "# # Conexão com o MongoDB\n",
    "# from pymongo import MongoClient\n",
    "\n",
    "# mongo_client = MongoClient(\"mongodb://localhost:27017\")\n",
    "# mongo_db = mongo_client[\"rag_db\"]\n",
    "# mongo_chunks = mongo_db[\"images\"]\n",
    "\n",
    "# # Remover todos os documentos da collection\n",
    "# mongo_chunks.delete_many({})\n",
    "# print(\"Coleção 'images' do MongoDB limpa com sucesso.\")"
   ]
  },
  {
   "cell_type": "code",
   "execution_count": 5,
   "id": "5a9dafc5-6b1e-4e26-877d-4d26cccb6a4b",
   "metadata": {},
   "outputs": [
    {
     "name": "stdout",
     "output_type": "stream",
     "text": [
      "Removidos 2 documentos da coleção 'image_descriptions'.\n"
     ]
    }
   ],
   "source": [
    "# #limpar o chromadb caso necessário\n",
    "# import chromadb\n",
    "\n",
    "# # Inicializar o cliente ChromaDB\n",
    "# chroma_client = chromadb.PersistentClient(path=\"../chroma_db\")\n",
    "# collection = chroma_client.get_or_create_collection(name=\"image_descriptions\")\n",
    "\n",
    "# # Buscar todos os IDs\n",
    "# all_ids = collection.get()[\"ids\"]\n",
    "\n",
    "# # Remover todos os documentos pelo ID\n",
    "# if all_ids:\n",
    "#     collection.delete(ids=all_ids)\n",
    "#     print(f\"Removidos {len(all_ids)} documentos da coleção 'image_descriptions'.\")\n",
    "# else:\n",
    "#     print(\"Nenhum documento encontrado para remoção no ChromaDB.\")"
   ]
  },
  {
   "cell_type": "code",
   "execution_count": null,
   "id": "bc940e5f-a54f-4099-b9d1-14fe6aff2256",
   "metadata": {},
   "outputs": [],
   "source": []
  }
 ],
 "metadata": {
  "kernelspec": {
   "display_name": "Python 3 (ipykernel)",
   "language": "python",
   "name": "python3"
  },
  "language_info": {
   "codemirror_mode": {
    "name": "ipython",
    "version": 3
   },
   "file_extension": ".py",
   "mimetype": "text/x-python",
   "name": "python",
   "nbconvert_exporter": "python",
   "pygments_lexer": "ipython3",
   "version": "3.11.12"
  }
 },
 "nbformat": 4,
 "nbformat_minor": 5
}
