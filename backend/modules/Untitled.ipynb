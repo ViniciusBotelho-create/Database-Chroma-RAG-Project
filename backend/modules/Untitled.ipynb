{
 "cells": [
  {
   "cell_type": "code",
   "execution_count": 2,
   "id": "2e8cec1d-3b33-40e8-ac64-99f783ec23c6",
   "metadata": {},
   "outputs": [
    {
     "name": "stdout",
     "output_type": "stream",
     "text": [
      "Caminho absoluto do ChromaDB:\n",
      "C:\\Users\\vinic\\Documents\\GitHub\\Database-Chroma-RAG-Project\\backend\\chroma_db\n",
      "Coleções disponíveis no ChromaDB: ['rag_embeddings', 'image_descriptions']\n"
     ]
    }
   ],
   "source": [
    "import os\n",
    "import chromadb\n",
    "\n",
    "# Cliente persistente no Notebook\n",
    "chroma_client = chromadb.PersistentClient(path=\"../chroma_db\")\n",
    "\n",
    "print(\"Caminho absoluto do ChromaDB:\")\n",
    "print(os.path.abspath(\"../chroma_db\"))\n",
    "\n",
    "# Listar coleções\n",
    "collections = chroma_client.list_collections()\n",
    "print(\"Coleções disponíveis no ChromaDB:\", [col.name for col in collections])\n",
    "\n"
   ]
  },
  {
   "cell_type": "code",
   "execution_count": null,
   "id": "b9a5c70c-897d-4800-bed5-6290466ae217",
   "metadata": {},
   "outputs": [],
   "source": []
  }
 ],
 "metadata": {
  "kernelspec": {
   "display_name": "Python 3 (ipykernel)",
   "language": "python",
   "name": "python3"
  },
  "language_info": {
   "codemirror_mode": {
    "name": "ipython",
    "version": 3
   },
   "file_extension": ".py",
   "mimetype": "text/x-python",
   "name": "python",
   "nbconvert_exporter": "python",
   "pygments_lexer": "ipython3",
   "version": "3.12.7"
  }
 },
 "nbformat": 4,
 "nbformat_minor": 5
}
