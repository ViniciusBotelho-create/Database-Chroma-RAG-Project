{
 "cells": [
  {
   "cell_type": "code",
   "execution_count": 28,
   "id": "344fbbe3-0db5-4b0d-bb1c-108550f50e73",
   "metadata": {},
   "outputs": [],
   "source": [
    "import openai\n",
    "from pymongo import MongoClient\n",
    "import chromadb\n",
    "from chromadb.config import Settings\n",
    "from openai import OpenAI\n",
    "from langchain.embeddings import OpenAIEmbeddings\n",
    "import os\n"
   ]
  },
  {
   "cell_type": "code",
   "execution_count": 12,
   "id": "d17fcadb-a217-4df3-95b5-354a421d304f",
   "metadata": {},
   "outputs": [
    {
     "name": "stdout",
     "output_type": "stream",
     "text": [
      "[Collection(name=rag_embeddings)]\n"
     ]
    }
   ],
   "source": [
    "chroma_client = chromadb.PersistentClient(path=\"./chroma_db\")\n",
    "print(chroma_client.list_collections())\n"
   ]
  },
  {
   "cell_type": "code",
   "execution_count": 25,
   "id": "518175ee-6412-477f-bacc-d15ee664989f",
   "metadata": {},
   "outputs": [],
   "source": [
    "openai_api_key = os.getenv(\"OPENAI_API_KEY\")\n",
    "\n",
    "# Conectar ao MongoDB\n",
    "mongo_client = MongoClient(\"mongodb://localhost:27017/\")\n",
    "mongo_db = mongo_client[\"rag_db\"]\n",
    "mongo_chunks = mongo_db[\"chunks\"]\n",
    "\n",
    "collection = chroma_client.get_collection(\"rag_embeddings\")\n",
    "\n",
    "# Inicializar embeddings\n",
    "embedding_model = OpenAIEmbeddings(openai_api_key=openai_api_key)"
   ]
  },
  {
   "cell_type": "code",
   "execution_count": 26,
   "id": "5f9ae375-548b-462c-9742-7965eeee26b8",
   "metadata": {},
   "outputs": [
    {
     "data": {
      "text/plain": [
       "'Afetadas (ADAs) e na Área de Influência Direta (AID) do empreendimento para desenvolver ações educativas, com ênfase nos afetados diretamente pelo empreendimento, minimizando os impactos ambientais e sociais, buscando uma atuação efetiva na melhoria da qualidade ambiental e de Para a sociedade civil da Área de Influência Direta (AID) e para os moradores  do bairro e colaboradores das áreas afetadas diretamente (ADA), a questão ambiental é bastante a)\\nPlanejamento e Avaliação inicial\\n\\nPor outro lado, a cidade possui um grande potencial de desenvolvimento, especialmente no setor turístico, com a valorização da cultura local e a criação de novos atrativos.\\nÁrea de Influência Direta (AID):\\nÉ a região ao redor da ADA, que será afetada pelos impactos do empreendimento, como o aumento do Considerou-se um raio de 1000 metros.\\nÁrea Diretamente Afetada (ADA):\\nÉ construído e onde ocorrerão as remoção de vegetação ou a construção Área de Influência Indireta (AII):\\n\\nAfetada (ADA) é a área com alterações físicas, biológicas e socioeconômicas correspondentes à área que sofre diretamente as intervenções da instalação e operação, sendo somente dentro do empreendimento.\\nJá a Área de Influência Direta (AID) é aquela que absorverá diretamente os impactos positivos e/ou negativos gerados pela implantação e funcionamento do empreendimento.\\n\\n\\uf0b7 Área de Diretamente Afetada (ADA):\\nConsiderando alterações físicas, biológicas, socioeconômicas, a ADA corresponde à área que sofre diretamente as intervenções da instalação e operação sendo somente dentro do Fonte: Fonte: Google Earth / Ecosustent.\\n\\nApós análise inicial, definir os segmentos e grupos sociais que estarão envolvidos e os objetivos específicos do programa, tanto internos à MG TRAFOS, como colaboradores, quanto O Programa de Educação Ambiental tem como meta criar consciência na população da Área Diretamente Afetada (ADA) e Área de Influência Direta (AID) da importância da preservação dos recursos naturais, abrangendo a população inserida na AID e os trabalhadores do A delimitação das Áreas de Influência significa arbitrar diferentes'"
      ]
     },
     "execution_count": 26,
     "metadata": {},
     "output_type": "execute_result"
    }
   ],
   "source": [
    "# Função de pesquisa por query\n",
    "def search_query(query, top_n=5):\n",
    "    # Gerar o embedding da query\n",
    "    query_embedding = embedding_model.embed_query(query)\n",
    "    \n",
    "    # Buscar no ChromaDB os embeddings mais próximos\n",
    "    results = collection.query(\n",
    "        query_embeddings=[query_embedding], \n",
    "        n_results=top_n\n",
    "    )    \n",
    "    \n",
    "    # Recuperar os chunk_ids dos resultados\n",
    "    chunk_ids = []\n",
    "    metadatas = results[\"metadatas\"][0]  # Acessando o primeiro item da lista de metadados\n",
    "    \n",
    "    # Iterando sobre os metadados para obter os chunk_ids\n",
    "    for result in metadatas:\n",
    "        chunk_ids.append(result[\"source_file\"] + \"_chunk_\" + str(result[\"chunk_index\"]))\n",
    "    \n",
    "    # Buscar os textos dos chunks no MongoDB\n",
    "    chunks_text = []\n",
    "    for chunk_id in chunk_ids:\n",
    "        chunk = mongo_chunks.find_one({\"chunk_id\": chunk_id})\n",
    "        if chunk:\n",
    "            chunks_text.append(chunk[\"chunk_text\"])\n",
    "    \n",
    "    # Retorna os textos dos chunks encontrados\n",
    "    return \"\\n\\n\".join(chunks_text)\n",
    "\n",
    "\n",
    "\n",
    "#exemplo de retorno da função\n",
    "query = \"ADA\"\n",
    "search_query(query)"
   ]
  },
  {
   "cell_type": "code",
   "execution_count": 29,
   "id": "729a44b0-e86b-4c4a-966f-7e635665d9bd",
   "metadata": {},
   "outputs": [
    {
     "name": "stdin",
     "output_type": "stream",
     "text": [
      "Você:  ola\n"
     ]
    },
    {
     "name": "stdout",
     "output_type": "stream",
     "text": [
      "Bot: Olá! Como posso ajudar você hoje?\n"
     ]
    },
    {
     "name": "stdin",
     "output_type": "stream",
     "text": [
      "Você:  sair\n"
     ]
    }
   ],
   "source": [
    "#Função do chatbot com RAG\n",
    "def chatbot(message: str):\n",
    "    contexto = search_query(message)\n",
    "\n",
    "    prompt = f\"\"\"\n",
    "Você é um assistente especialista em licenciamento ambiental, com foco em auxiliar na elaboração de documentos EIA e RIMA. Use exclusivamente o contexto a seguir para responder de forma precisa e técnica.\n",
    "\n",
    "Contexto extraído de documentos:\n",
    "{contexto}\n",
    "\n",
    "Pergunta do usuário:\n",
    "{message}\n",
    "\"\"\"\n",
    "    client = openai.OpenAI(api_key=openai_api_key)\n",
    "    response = client.chat.completions.create(\n",
    "        model=\"gpt-4\",\n",
    "        messages=[\n",
    "            {\"role\": \"system\", \"content\": \"Você é um assistente técnico ambiental especializado em EIA e RIMA.\"},\n",
    "            {\"role\": \"user\", \"content\": prompt}\n",
    "        ],\n",
    "        temperature=0.2,\n",
    "        max_tokens=1000\n",
    "    )\n",
    "    return response.choices[0].message.content\n",
    "\n",
    "# Loop de interação\n",
    "while True:\n",
    "    user_input = input(\"Você: \")\n",
    "    if user_input.lower() in [\"sair\", \"exit\", \"quit\"]:\n",
    "        break\n",
    "    print(\"Bot:\", chatbot(user_input))"
   ]
  },
  {
   "cell_type": "code",
   "execution_count": null,
   "id": "00fcb5e9-e08a-481d-9a12-302b69ff431d",
   "metadata": {},
   "outputs": [],
   "source": []
  }
 ],
 "metadata": {
  "kernelspec": {
   "display_name": "Python (venv311)",
   "language": "python",
   "name": "venv311"
  },
  "language_info": {
   "codemirror_mode": {
    "name": "ipython",
    "version": 3
   },
   "file_extension": ".py",
   "mimetype": "text/x-python",
   "name": "python",
   "nbconvert_exporter": "python",
   "pygments_lexer": "ipython3",
   "version": "3.11.11"
  }
 },
 "nbformat": 4,
 "nbformat_minor": 5
}
